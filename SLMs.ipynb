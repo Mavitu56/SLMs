{
  "nbformat": 4,
  "nbformat_minor": 0,
  "metadata": {
    "colab": {
      "provenance": [],
      "gpuType": "T4",
      "include_colab_link": true
    },
    "kernelspec": {
      "name": "python3",
      "display_name": "Python 3"
    },
    "language_info": {
      "name": "python"
    },
    "accelerator": "GPU"
  },
  "cells": [
    {
      "cell_type": "markdown",
      "metadata": {
        "id": "view-in-github",
        "colab_type": "text"
      },
      "source": [
        "<a href=\"https://colab.research.google.com/github/Mavitu56/SLMs/blob/main/SLMs.ipynb\" target=\"_parent\"><img src=\"https://colab.research.google.com/assets/colab-badge.svg\" alt=\"Open In Colab\"/></a>"
      ]
    },
    {
      "cell_type": "markdown",
      "source": [
        "# Workflow Completo: Aprimoramento e Comparação de SLMs\n",
        "\n",
        "Este notebook é a versão final, completa e funcional do plano para aprimorar e comparar um Small Language Model (SLM) usando Destilação de Conhecimento e Engenharia de Prompt."
      ],
      "metadata": {
        "id": "markdown_intro_main"
      }
    },
    {
      "cell_type": "code",
      "source": [
        "# prompt: login hugging face\n",
        "\n",
        "from huggingface_hub import notebook_login\n",
        "notebook_login()"
      ],
      "metadata": {
        "id": "JbHGZkZ8XOIc"
      },
      "execution_count": null,
      "outputs": []
    },
    {
      "cell_type": "code",
      "source": [
        "# prompt: importar repositorio github\n",
        "\n",
        "!git clone https://github.com/Mavitu56/SLMs.git"
      ],
      "metadata": {
        "colab": {
          "base_uri": "https://localhost:8080/"
        },
        "id": "Ulg4yBUwoRbs",
        "outputId": "87c9aa01-eb78-44fc-fe21-bb56a62dd4b6"
      },
      "execution_count": 1,
      "outputs": [
        {
          "output_type": "stream",
          "name": "stdout",
          "text": [
            "Cloning into 'SLMs'...\n",
            "remote: Enumerating objects: 56, done.\u001b[K\n",
            "remote: Counting objects: 100% (56/56), done.\u001b[K\n",
            "remote: Compressing objects: 100% (50/50), done.\u001b[K\n",
            "remote: Total 56 (delta 10), reused 3 (delta 0), pack-reused 0 (from 0)\u001b[K\n",
            "Receiving objects: 100% (56/56), 24.71 MiB | 10.05 MiB/s, done.\n",
            "Resolving deltas: 100% (10/10), done.\n",
            "Updating files: 100% (29/29), done.\n"
          ]
        }
      ]
    },
    {
      "cell_type": "markdown",
      "source": [
        "### 1. Instalação e Importações Globais"
      ],
      "metadata": {
        "id": "markdown_deps"
      }
    },
    {
      "cell_type": "code",
      "execution_count": 2,
      "metadata": {
        "id": "hg4t9Rbq06Wq",
        "colab": {
          "base_uri": "https://localhost:8080/"
        },
        "outputId": "5cb5df39-2ec5-49a5-aef0-dd947a90de60"
      },
      "outputs": [
        {
          "output_type": "stream",
          "name": "stdout",
          "text": [
            "\u001b[2K   \u001b[90m━━━━━━━━━━━━━━━━━━━━━━━━━━━━━━━━━━━━━━━━\u001b[0m \u001b[32m542.0/542.0 kB\u001b[0m \u001b[31m22.5 MB/s\u001b[0m eta \u001b[36m0:00:00\u001b[0m\n",
            "\u001b[2K   \u001b[90m━━━━━━━━━━━━━━━━━━━━━━━━━━━━━━━━━━━━━━━━\u001b[0m \u001b[32m363.4/363.4 MB\u001b[0m \u001b[31m4.6 MB/s\u001b[0m eta \u001b[36m0:00:00\u001b[0m\n",
            "\u001b[2K   \u001b[90m━━━━━━━━━━━━━━━━━━━━━━━━━━━━━━━━━━━━━━━━\u001b[0m \u001b[32m13.8/13.8 MB\u001b[0m \u001b[31m57.9 MB/s\u001b[0m eta \u001b[36m0:00:00\u001b[0m\n",
            "\u001b[2K   \u001b[90m━━━━━━━━━━━━━━━━━━━━━━━━━━━━━━━━━━━━━━━━\u001b[0m \u001b[32m24.6/24.6 MB\u001b[0m \u001b[31m22.5 MB/s\u001b[0m eta \u001b[36m0:00:00\u001b[0m\n",
            "\u001b[2K   \u001b[90m━━━━━━━━━━━━━━━━━━━━━━━━━━━━━━━━━━━━━━━━\u001b[0m \u001b[32m883.7/883.7 kB\u001b[0m \u001b[31m56.5 MB/s\u001b[0m eta \u001b[36m0:00:00\u001b[0m\n",
            "\u001b[2K   \u001b[90m━━━━━━━━━━━━━━━━━━━━━━━━━━━━━━━━━━━━━━━\u001b[0m \u001b[32m664.8/664.8 MB\u001b[0m \u001b[31m812.4 kB/s\u001b[0m eta \u001b[36m0:00:00\u001b[0m\n",
            "\u001b[2K   \u001b[90m━━━━━━━━━━━━━━━━━━━━━━━━━━━━━━━━━━━━━━━━\u001b[0m \u001b[32m211.5/211.5 MB\u001b[0m \u001b[31m7.3 MB/s\u001b[0m eta \u001b[36m0:00:00\u001b[0m\n",
            "\u001b[2K   \u001b[90m━━━━━━━━━━━━━━━━━━━━━━━━━━━━━━━━━━━━━━━━\u001b[0m \u001b[32m56.3/56.3 MB\u001b[0m \u001b[31m15.3 MB/s\u001b[0m eta \u001b[36m0:00:00\u001b[0m\n",
            "\u001b[2K   \u001b[90m━━━━━━━━━━━━━━━━━━━━━━━━━━━━━━━━━━━━━━━━\u001b[0m \u001b[32m127.9/127.9 MB\u001b[0m \u001b[31m8.9 MB/s\u001b[0m eta \u001b[36m0:00:00\u001b[0m\n",
            "\u001b[2K   \u001b[90m━━━━━━━━━━━━━━━━━━━━━━━━━━━━━━━━━━━━━━━━\u001b[0m \u001b[32m207.5/207.5 MB\u001b[0m \u001b[31m6.9 MB/s\u001b[0m eta \u001b[36m0:00:00\u001b[0m\n",
            "\u001b[2K   \u001b[90m━━━━━━━━━━━━━━━━━━━━━━━━━━━━━━━━━━━━━━━━\u001b[0m \u001b[32m21.1/21.1 MB\u001b[0m \u001b[31m111.4 MB/s\u001b[0m eta \u001b[36m0:00:00\u001b[0m\n",
            "\u001b[2K   \u001b[90m━━━━━━━━━━━━━━━━━━━━━━━━━━━━━━━━━━━━━━━━\u001b[0m \u001b[32m84.0/84.0 kB\u001b[0m \u001b[31m8.9 MB/s\u001b[0m eta \u001b[36m0:00:00\u001b[0m\n",
            "\u001b[2K   \u001b[90m━━━━━━━━━━━━━━━━━━━━━━━━━━━━━━━━━━━━━━━━\u001b[0m \u001b[32m67.0/67.0 MB\u001b[0m \u001b[31m12.8 MB/s\u001b[0m eta \u001b[36m0:00:00\u001b[0m\n",
            "\u001b[2K   \u001b[90m━━━━━━━━━━━━━━━━━━━━━━━━━━━━━━━━━━━━━━━━\u001b[0m \u001b[32m172.0/172.0 kB\u001b[0m \u001b[31m17.8 MB/s\u001b[0m eta \u001b[36m0:00:00\u001b[0m\n",
            "\u001b[2K   \u001b[90m━━━━━━━━━━━━━━━━━━━━━━━━━━━━━━━━━━━━━━━━\u001b[0m \u001b[32m1.6/1.6 MB\u001b[0m \u001b[31m79.8 MB/s\u001b[0m eta \u001b[36m0:00:00\u001b[0m\n",
            "\u001b[?25h\u001b[31mERROR: pip's dependency resolver does not currently take into account all the packages that are installed. This behaviour is the source of the following dependency conflicts.\n",
            "gcsfs 2025.3.2 requires fsspec==2025.3.2, but you have fsspec 2024.3.1 which is incompatible.\u001b[0m\u001b[31m\n",
            "\u001b[0m"
          ]
        }
      ],
      "source": [
        "!pip install torch transformers \"datasets==2.19.0\" evaluate peft accelerate ipywidgets bitsandbytes sentencepiece pandas matplotlib --quiet"
      ]
    },
    {
      "cell_type": "code",
      "source": [
        "import os\n",
        "import torch\n",
        "import re\n",
        "import evaluate\n",
        "import pandas as pd\n",
        "import matplotlib.pyplot as plt\n",
        "from tqdm import tqdm\n",
        "from collections import Counter\n",
        "from transformers import (\n",
        "    AutoTokenizer, AutoModelForCausalLM, BitsAndBytesConfig, AdamW,\n",
        "    TrainingArguments, Trainer, DataCollatorForLanguageModeling\n",
        ")\n",
        "from peft import PeftModel, LoraConfig, get_peft_model\n",
        "from datasets import load_dataset, Dataset\n",
        "import torch.nn.functional as F"
      ],
      "metadata": {
        "id": "imports-central"
      },
      "execution_count": 3,
      "outputs": []
    },
    {
      "cell_type": "markdown",
      "source": [
        "### 2. Funções da Fase 0: Configuração do Ambiente"
      ],
      "metadata": {
        "id": "markdown_phase_0"
      }
    },
    {
      "cell_type": "code",
      "source": [
        "# 📦 CONFIGURAÇÃO DE MÉTRICAS BLEU/ROUGE\n",
        "bleu_metric = evaluate.load(\"bleu\")\n",
        "rouge_metric = evaluate.load(\"rouge\")\n",
        "\n",
        "# 📦 CONFIGURAÇÕES GERAIS\n",
        "class KDConfig:\n",
        "    DEVICE = \"cuda\" if torch.cuda.is_available() else \"cpu\"\n",
        "    TEMPERATURE = 2.0\n",
        "    LEARNING_RATE = 5e-5\n",
        "    NUM_EPOCHS = 3\n",
        "\n",
        "config = KDConfig()"
      ],
      "metadata": {
        "id": "4Hlnxt1s06Wq"
      },
      "execution_count": 4,
      "outputs": []
    },
    {
      "cell_type": "markdown",
      "source": [
        "### 3. Funções da Fase 1: Destilação de Conhecimento (KD)"
      ],
      "metadata": {
        "id": "markdown_phase_1"
      }
    },
    {
      "cell_type": "code",
      "source": [
        "# 📦 FUNÇÕES UTILITÁRIAS\n",
        "def compute_text_metrics(predictions, references):\n",
        "    preds = [p['prediction_text'] for p in predictions]\n",
        "    refs = [r['answers']['text'][0] for r in references]\n",
        "\n",
        "    bleu_result = bleu_metric.compute(predictions=preds, references=[[ref] for ref in refs])\n",
        "    rouge_result = rouge_metric.compute(predictions=preds, references=refs)\n",
        "\n",
        "    return {\n",
        "        \"bleu\": bleu_result[\"bleu\"] * 100,\n",
        "        \"rougeL\": rouge_result[\"rougeL\"] * 100\n",
        "    }\n",
        "\n",
        "def load_model_quantized(model_id):\n",
        "    print(f\"\\n--- Loading Quantized Model: {model_id} ---\")\n",
        "    quant_config = BitsAndBytesConfig(load_in_4bit=True, bnb_4bit_compute_dtype=torch.bfloat16)\n",
        "    tokenizer = AutoTokenizer.from_pretrained(model_id)\n",
        "    if tokenizer.pad_token is None:\n",
        "        tokenizer.pad_token = tokenizer.eos_token\n",
        "    model = AutoModelForCausalLM.from_pretrained(\n",
        "        model_id, device_map=\"auto\", quantization_config=quant_config, torch_dtype=torch.bfloat16\n",
        "    )\n",
        "    return model, tokenizer\n",
        "\n",
        "def pad_to_len(logits, target_len):\n",
        "    pad_len = target_len - logits.shape[1]\n",
        "    if pad_len > 0:\n",
        "        pad = torch.zeros((logits.shape[0], pad_len, logits.shape[2]), device=logits.device)\n",
        "        logits = torch.cat([logits, pad], dim=1)\n",
        "    return logits\n",
        "\n",
        "def compute_distillation_loss(student_logits, teacher_logits, temperature):\n",
        "    soft_teacher_probs = F.softmax(teacher_logits / temperature, dim=-1)\n",
        "    soft_student_log_probs = F.log_softmax(student_logits / temperature, dim=-1)\n",
        "    return (temperature**2) * F.kl_div(soft_student_log_probs, soft_teacher_probs, reduction='batchmean')"
      ],
      "metadata": {
        "id": "kd_functions"
      },
      "execution_count": 5,
      "outputs": []
    },
    {
      "cell_type": "markdown",
      "source": [
        "###4. Datasets"
      ],
      "metadata": {
        "id": "bJhvRkdgWb5C"
      }
    },
    {
      "cell_type": "code",
      "source": [
        "# 📦 DATASETS\n",
        "validation_dataset = load_dataset(\"squad\", split=\"validation\")\n",
        "train_dataset = load_dataset(\"squad\", split=\"train\")\n",
        "kd_transfer_set = train_dataset.shuffle(seed=42).select(range(10000))\n",
        "icl_cot_set = train_dataset.select(range(5))\n",
        "prepared_data = {\n",
        "    \"evaluation\": validation_dataset,\n",
        "    \"kd_transfer\": kd_transfer_set,\n",
        "    \"icl_cot_examples\": icl_cot_set\n",
        "}"
      ],
      "metadata": {
        "id": "MdX0ypALWap-"
      },
      "execution_count": null,
      "outputs": []
    },
    {
      "cell_type": "markdown",
      "source": [
        "### 5. Funções da Fase 2: Treinamento"
      ],
      "metadata": {
        "id": "markdown_phase_2"
      }
    },
    {
      "cell_type": "code",
      "source": [
        "# 📦 TREINAMENTO KD\n",
        "def run_base_kd_training(student_model, teacher_model, student_tokenizer, teacher_tokenizer, kd_dataset, config, output_dir):\n",
        "    print(f\"\\n--- Running Base Knowledge Distillation: {output_dir} ---\")\n",
        "    lora_config = LoraConfig(r=16, lora_alpha=32, target_modules=[\"q_proj\", \"v_proj\"], lora_dropout=0.05, bias=\"none\", task_type=\"CAUSAL_LM\")\n",
        "    peft_student_model = get_peft_model(student_model, lora_config)\n",
        "    optimizer = AdamW(peft_student_model.parameters(), lr=config.LEARNING_RATE)\n",
        "    teacher_model.eval()\n",
        "\n",
        "    for epoch in range(config.NUM_EPOCHS):\n",
        "        print(f\"Epoch {epoch+1}/{config.NUM_EPOCHS}\")\n",
        "        peft_student_model.train()\n",
        "        for batch in tqdm(kd_dataset.shuffle(seed=epoch).select(range(200))):\n",
        "            prompt = f\"Contexto: {batch['context']}\\n\\nPergunta: {batch['question']}\"\n",
        "            teacher_inputs = teacher_tokenizer(prompt, return_tensors=\"pt\", truncation=True, max_length=512).to(config.DEVICE)\n",
        "            student_inputs = student_tokenizer(prompt, return_tensors=\"pt\", truncation=True, max_length=512).to(config.DEVICE)\n",
        "            with torch.no_grad():\n",
        "                teacher_logits = teacher_model(**teacher_inputs).logits\n",
        "            student_logits = peft_student_model(**student_inputs).logits\n",
        "\n",
        "            if student_logits.shape[-1] != teacher_logits.shape[-1]:\n",
        "                raise ValueError(f\"Vocab mismatch: student {student_logits.shape[-1]}, teacher {teacher_logits.shape[-1]}\")\n",
        "\n",
        "            max_len = max(student_logits.shape[1], teacher_logits.shape[1])\n",
        "            student_logits = pad_to_len(student_logits, max_len)\n",
        "            teacher_logits = pad_to_len(teacher_logits, max_len)\n",
        "\n",
        "            loss = compute_distillation_loss(student_logits, teacher_logits, config.TEMPERATURE)\n",
        "            loss.backward()\n",
        "            optimizer.step()\n",
        "            optimizer.zero_grad()\n",
        "\n",
        "    os.makedirs(output_dir, exist_ok=True)\n",
        "    peft_student_model.save_pretrained(output_dir)\n",
        "    student_tokenizer.save_pretrained(output_dir)\n",
        "    print(f\"Modelo salvo em {output_dir}\")"
      ],
      "metadata": {
        "id": "prompting_functions"
      },
      "execution_count": 6,
      "outputs": []
    },
    {
      "cell_type": "markdown",
      "source": [
        "###6. Avaliação e Prompting"
      ],
      "metadata": {
        "id": "4QO9NUEdWrm0"
      }
    },
    {
      "cell_type": "code",
      "source": [
        "# 📦 PROMPTING E AVALIAÇÃO\n",
        "def run_generic_evaluation(model, tokenizer, eval_dataset, prompt_template, strategy_name, eval_subset_size=200):\n",
        "    print(f\"\\n--- Avaliando: {strategy_name} ---\")\n",
        "    device = \"cuda\" if torch.cuda.is_available() else \"cpu\"\n",
        "    model.eval()\n",
        "    predictions, references = [], []\n",
        "\n",
        "    for example in tqdm(eval_dataset.select(range(eval_subset_size))):\n",
        "        prompt = prompt_template.format(context=example['context'], question=example['question'])\n",
        "        inputs = tokenizer(prompt, return_tensors=\"pt\", max_length=1536, truncation=True).to(device)\n",
        "        with torch.no_grad():\n",
        "            outputs = model.generate(**inputs, max_new_tokens=60, pad_token_id=tokenizer.eos_token_id)\n",
        "\n",
        "        full_text = tokenizer.decode(outputs[0], skip_special_tokens=True)\n",
        "        predicted_answer = full_text[len(prompt):].strip()\n",
        "        predictions.append({'id': example['id'], 'prediction_text': predicted_answer})\n",
        "        references.append({'id': example['id'], 'answers': example['answers']})\n",
        "\n",
        "    return predictions, references"
      ],
      "metadata": {
        "id": "RY6i1KmeWr5Z"
      },
      "execution_count": null,
      "outputs": []
    },
    {
      "cell_type": "code",
      "source": [
        "# 📦 MODELOS E KD\n",
        "teacher_model, teacher_tokenizer = load_model_quantized(\"mistralai/Mistral-7B-Instruct-v0.2\")\n",
        "student_model, student_tokenizer = load_model_quantized(\"TinyLlama/TinyLlama-1.1B-Chat-v1.0\")\n",
        "\n",
        "run_base_kd_training(student_model, teacher_model, student_tokenizer, teacher_tokenizer, prepared_data['kd_transfer'], config, \"./github_results/kd_model\")\n"
      ],
      "metadata": {
        "id": "YX3IYaSwXCPj"
      },
      "execution_count": null,
      "outputs": []
    },
    {
      "cell_type": "code",
      "source": [
        "# 📦 TREINAMENTO AUTO-DESTILAÇÃO\n",
        "print(\"\\n--- Treinando Auto-Destilação ---\")\n",
        "kd_model_teacher = PeftModel.from_pretrained(base_model, \"./github_results/kd_model\").merge_and_unload()\n",
        "run_base_kd_training(student_model, kd_model_teacher, student_tokenizer, tokenizer, prepared_data['kd_transfer'], config, \"./github_results/kd_self_distilled_model\")\n",
        "\n",
        "# 📦 CARREGAR MODELOS AVALIADOS\n",
        "kd_model = PeftModel.from_pretrained(base_model, \"./github_results/kd_model\").merge_and_unload()\n",
        "kd_self_model = PeftModel.from_pretrained(base_model, \"./github_results/kd_self_distilled_model\").merge_and_unload()"
      ],
      "metadata": {
        "id": "O4dxu6--ZD-v"
      },
      "execution_count": null,
      "outputs": []
    },
    {
      "cell_type": "code",
      "source": [
        "# 📦 AVALIAÇÃO FINAL\n",
        "strategies = {\n",
        "    \"Zero-Shot\": {\"prompt\": \"Contexto: {context}\\n\\nPergunta: {question}\\n\\nResposta:\", \"paths\": 1},\n",
        "    \"Zero-Shot-CoT\": {\"prompt\": \"Contexto: {context}\\n\\nPergunta: {question}\\n\\nPense passo a passo. A resposta final é:\", \"paths\": 1},\n",
        "    \"ICL (k=3)\": {\"prompt\": \"\".join([f\"Contexto: {ex['context']}\\nPergunta: {ex['question']}\\nResposta: {ex['answers']['text'][0]}\\n---\\n\\n\" for ex in prepared_data['icl_cot_examples'].select(range(3))]) + \"Contexto: {context}\\n\\nPergunta: {question}\\n\\nResposta:\", \"paths\": 1},\n",
        "    \"Auto-Consistência (n=5)\": {\"prompt\": \"Contexto: {context}\\n\\nPergunta: {question}\\n\\nPense passo a passo. A resposta final é:\", \"paths\": 5}\n",
        "}\n",
        "\n",
        "models_to_eval = {\"KD Base\": kd_model, \"KD Auto-Destilado\": kd_self_model}\n",
        "\n",
        "results = {}\n",
        "for model_name, model_instance in models_to_eval.items():\n",
        "    for strat_name, strat_conf in strategies.items():\n",
        "        preds, refs = run_generic_evaluation(model_instance, tokenizer, prepared_data['evaluation'], strat_conf['prompt'], f\"{model_name} - {strat_name}\", num_paths=strat_conf['paths'])\n",
        "        metrics = compute_text_metrics(preds, refs)\n",
        "        results[(model_name, strat_name)] = metrics"
      ],
      "metadata": {
        "id": "it44XuiAXGEQ"
      },
      "execution_count": null,
      "outputs": []
    },
    {
      "cell_type": "code",
      "source": [
        "print(\"\\nResultados:\")\n",
        "for strat, met in results.items():\n",
        "    print(f\"{strat}: BLEU {met['bleu']:.1f} | ROUGE-L {met['rougeL']:.1f}\")\n",
        "\n",
        "results_df = pd.DataFrame(results).T\n",
        "plot_path = os.path.join(\"./github_results\", \"bleu_rouge_comparison.png\")\n",
        "results_df.plot(kind='bar', figsize=(10,6), title='Comparação BLEU / ROUGE-L entre Estratégias')\n",
        "plt.ylabel(\"Score\")\n",
        "plt.tight_layout()\n",
        "plt.savefig(plot_path)\n",
        "print(f\"Gráfico salvo em {plot_path}\")"
      ],
      "metadata": {
        "id": "Ydkqv9ZKZZM0"
      },
      "execution_count": null,
      "outputs": []
    }
  ]
}